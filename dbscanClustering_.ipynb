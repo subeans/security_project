{
  "nbformat": 4,
  "nbformat_minor": 0,
  "metadata": {
    "colab": {
      "name": "dbscanClustering .ipynb",
      "provenance": [],
      "collapsed_sections": [],
      "include_colab_link": true
    },
    "kernelspec": {
      "name": "python3",
      "display_name": "Python 3"
    },
    "language_info": {
      "name": "python"
    }
  },
  "cells": [
    {
      "cell_type": "markdown",
      "metadata": {
        "id": "view-in-github",
        "colab_type": "text"
      },
      "source": [
        "<a href=\"https://colab.research.google.com/github/subeans/security_project/blob/main/dbscanClustering_.ipynb\" target=\"_parent\"><img src=\"https://colab.research.google.com/assets/colab-badge.svg\" alt=\"Open In Colab\"/></a>"
      ]
    },
    {
      "cell_type": "markdown",
      "metadata": {
        "id": "oLoQ2s-Lb8uM"
      },
      "source": [
        "- **이상값 가정 1**\n",
        "    \n",
        "    정상값들은 하나 또는 몇 개의 군집에 모여 있고, 이상값은 군집에 속하지 않는다.\n",
        "    \n",
        "    데이터에서 군집을 찾아낸 후 제거한 뒤 남아있는 데이터를 이상값으로 처리**.**\n",
        "    \n",
        "    DBSCAN ( [wikipedia 설명](https://en.wikipedia.org/wiki/DBSCAN) , [scikit-learn 의 DBSCAN 알고리즘](https://scikit-learn.org/stable/auto_examples/cluster/plot_dbscan.html) )ROCK ( [Guha et al., 2000](http://www.facweb.iitkgp.ac.in/~shamik/autumn2012/dwdm/papers/ROCK%20A%20Robust%20Clustering%20Algorithm%20for%20Categorical%20Attributes%20(2000)guha00rock.pdf) )SNN 군집화 ( [ML wiki 설명](http://mlwiki.org/index.php/SNN_Clustering) )\n",
        "    \n",
        "- **이상값 가정 2**\n",
        "    \n",
        "    **군집의 중심(centroid) 중 가장 가까운 것과의 거리가 짧으면 정상값, 길면 이상값이다.**\n",
        "    \n",
        "    **군집화를 하고 데이터가 포함된 군집의 중심과 데이터 개체 사이의 거리를 “이상 score” 로 두고 이용.**\n",
        "    \n",
        "    K-means ( [wikipedia 설명](https://ko.wikipedia.org/wiki/K-%ED%8F%89%EA%B7%A0_%EC%95%8C%EA%B3%A0%EB%A6%AC%EC%A6%98) )EM 알고리즘 ( [wikipedia 설명](https://ko.wikipedia.org/wiki/%EA%B8%B0%EB%8C%93%EA%B0%92_%EC%B5%9C%EB%8C%80%ED%99%94_%EC%95%8C%EA%B3%A0%EB%A6%AC%EC%A6%98) )\n",
        "    \n",
        "- **이상값 가정 3**\n",
        "    \n",
        "    **정상값은 크거나 조밀한 군집에, 이상값은 작거나 sparse 한 군집에 속한다.**\n",
        "    \n",
        "    데이터 개체가 속한 군집의 크기나 밀도가 “이상” 여부를 판단."
      ]
    },
    {
      "cell_type": "markdown",
      "metadata": {
        "id": "rtc84QFRcEBk"
      },
      "source": [
        "## 이상값 가정 1 : DBSCAN 알고리즘 적용\n",
        "밀도 방식의 클러스터링을 사용하는 DBSCAN(Density-based spatial clustering of applications with noise)\n",
        "\n",
        "앞에서 설명한 K Means나 Hierarchical 클러스터링의 경우 군집간의 거리를 이용하여 클러스터링을 하는 방법인데, 밀도 기반의 클러스터링은 점이 세밀하게 몰려 있어서 밀도가 높은 부분을 클러스터링 하는 방식이다. 쉽게 설명하면, 어느점을 기준으로 반경 x내에 점이 n개 이상 있으면 하나의 군집으로 인식하는 방식이다.\n",
        "\n"
      ]
    },
    {
      "cell_type": "code",
      "metadata": {
        "id": "sZlLenFpcaxO"
      },
      "source": [
        "import numpy as np\n",
        "\n",
        "from sklearn.cluster import DBSCAN\n",
        "from sklearn import metrics\n",
        "from sklearn.datasets import make_blobs\n",
        "from sklearn.preprocessing import StandardScaler\n",
        "\n",
        "import matplotlib.pyplot  as plt\n",
        "import seaborn as sns\n"
      ],
      "execution_count": 42,
      "outputs": []
    },
    {
      "cell_type": "code",
      "metadata": {
        "id": "yvlhTk9u7gcW"
      },
      "source": [
        "import pandas as pd"
      ],
      "execution_count": 2,
      "outputs": []
    },
    {
      "cell_type": "code",
      "metadata": {
        "colab": {
          "base_uri": "https://localhost:8080/"
        },
        "id": "qxW1YJ7W7XeI",
        "outputId": "4d72615b-1f92-4164-d681-2bf5bf7cb9cf"
      },
      "source": [
        "dataset = pd.read_csv(\"/content/drive/MyDrive/security_project/04_hashed.csv\")\n",
        "\n",
        "dataset.columns"
      ],
      "execution_count": 5,
      "outputs": [
        {
          "output_type": "execute_result",
          "data": {
            "text/plain": [
              "Index(['Rdate', 'src_ip', 'dst_ip', 'Proto', 'src_port', 'dst_port', 'Action',\n",
              "       'src_country', 'dst_country'],\n",
              "      dtype='object')"
            ]
          },
          "metadata": {},
          "execution_count": 5
        }
      ]
    },
    {
      "cell_type": "code",
      "metadata": {
        "id": "JIL17QYVyrsr"
      },
      "source": [
        "def select_unique_Rdate(dataset):\n",
        "  time_list=[]\n",
        "  for i in range(len(dataset['Rdate'])):\n",
        "    time_list.append(dataset.iloc[i]['Rdate'])\n",
        "  unique_time = set(time_list)\n",
        "  unique_time = sorted(unique_time)\n",
        "  print(len(unique_time)) # 24218\n",
        "  return unique_time "
      ],
      "execution_count": 8,
      "outputs": []
    },
    {
      "cell_type": "code",
      "metadata": {
        "id": "oDK2En8Q7a3R"
      },
      "source": [
        "# feature = dataset[ ['src_ip', 'dst_ip', 'Proto', 'src_port', 'dst_port', 'Action',\n",
        "#        'src_country', 'dst_country'] ]\n",
        "\n",
        "feature = dataset[ ['Rdate','src_ip', 'dst_ip', 'src_port', 'dst_port', 'Action']]"
      ],
      "execution_count": 24,
      "outputs": []
    },
    {
      "cell_type": "code",
      "metadata": {
        "id": "skPUkL7j7yBg"
      },
      "source": [
        "# Rdate의 중복시간제거\n",
        "unique_time = select_unique_Rdate(feature)"
      ],
      "execution_count": null,
      "outputs": []
    },
    {
      "cell_type": "code",
      "metadata": {
        "id": "yv4pIhG78HeR"
      },
      "source": [
        "\"\"\" \n",
        "IPv4 ,각 그룹을 균등화하고 길이가 일치하도록 0 추가 \n",
        "\"\"\" \n",
        "def transform_ip(ip): \n",
        "  IPV4_GROUP_LENGTH = 3 # IPv4의 각 그룹은 이 길이입니다.\n",
        "  # IPv4 주소 \n",
        "  groups = ip.split( \".\" ) \n",
        "  equalize_group_length = \"\".join( map( lambda group: group.zfill(3), groups )) \n",
        "  return equalize_group_length \n",
        "\n",
        "\"\"\"\n",
        "Converts the ipAddress column of pandas DataFrame df, to one-hot\n",
        "Also returns the encoder used\n",
        "\"\"\"\n",
        "from sklearn.preprocessing import OneHotEncoder\n",
        "\n",
        "def one_hot_ip(df):\n",
        "  df['src_ip'] = df.src_ip.apply(lambda ip : transform_ip(ip))\n",
        "  df['dst_ip'] = df.dst_ip.apply(lambda ip : transform_ip(ip))\n",
        "  return df"
      ],
      "execution_count": 26,
      "outputs": []
    },
    {
      "cell_type": "code",
      "metadata": {
        "colab": {
          "base_uri": "https://localhost:8080/"
        },
        "id": "5yr0a74p8Nk0",
        "outputId": "d22cac70-664e-4364-cba6-83d7b4dba010"
      },
      "source": [
        "feature_ = one_hot_ip(feature)"
      ],
      "execution_count": 27,
      "outputs": [
        {
          "output_type": "stream",
          "name": "stderr",
          "text": [
            "/usr/local/lib/python3.7/dist-packages/ipykernel_launcher.py:18: SettingWithCopyWarning: \n",
            "A value is trying to be set on a copy of a slice from a DataFrame.\n",
            "Try using .loc[row_indexer,col_indexer] = value instead\n",
            "\n",
            "See the caveats in the documentation: https://pandas.pydata.org/pandas-docs/stable/user_guide/indexing.html#returning-a-view-versus-a-copy\n",
            "/usr/local/lib/python3.7/dist-packages/ipykernel_launcher.py:19: SettingWithCopyWarning: \n",
            "A value is trying to be set on a copy of a slice from a DataFrame.\n",
            "Try using .loc[row_indexer,col_indexer] = value instead\n",
            "\n",
            "See the caveats in the documentation: https://pandas.pydata.org/pandas-docs/stable/user_guide/indexing.html#returning-a-view-versus-a-copy\n"
          ]
        }
      ]
    },
    {
      "cell_type": "code",
      "metadata": {
        "colab": {
          "base_uri": "https://localhost:8080/",
          "height": 411
        },
        "id": "WfaMJ2XQ8hef",
        "outputId": "6c962c62-d205-4f00-8629-0c0f7487ed3a"
      },
      "source": [
        "feature_"
      ],
      "execution_count": 28,
      "outputs": [
        {
          "output_type": "execute_result",
          "data": {
            "text/html": [
              "<div>\n",
              "<style scoped>\n",
              "    .dataframe tbody tr th:only-of-type {\n",
              "        vertical-align: middle;\n",
              "    }\n",
              "\n",
              "    .dataframe tbody tr th {\n",
              "        vertical-align: top;\n",
              "    }\n",
              "\n",
              "    .dataframe thead th {\n",
              "        text-align: right;\n",
              "    }\n",
              "</style>\n",
              "<table border=\"1\" class=\"dataframe\">\n",
              "  <thead>\n",
              "    <tr style=\"text-align: right;\">\n",
              "      <th></th>\n",
              "      <th>Rdate</th>\n",
              "      <th>src_ip</th>\n",
              "      <th>dst_ip</th>\n",
              "      <th>src_port</th>\n",
              "      <th>dst_port</th>\n",
              "      <th>Action</th>\n",
              "    </tr>\n",
              "  </thead>\n",
              "  <tbody>\n",
              "    <tr>\n",
              "      <th>0</th>\n",
              "      <td>2.021041e+13</td>\n",
              "      <td>154058159102</td>\n",
              "      <td>103177012042</td>\n",
              "      <td>52897</td>\n",
              "      <td>445</td>\n",
              "      <td>2</td>\n",
              "    </tr>\n",
              "    <tr>\n",
              "      <th>1</th>\n",
              "      <td>2.021041e+13</td>\n",
              "      <td>154058159020</td>\n",
              "      <td>125066092196</td>\n",
              "      <td>60579</td>\n",
              "      <td>445</td>\n",
              "      <td>2</td>\n",
              "    </tr>\n",
              "    <tr>\n",
              "      <th>2</th>\n",
              "      <td>2.021041e+13</td>\n",
              "      <td>154058159164</td>\n",
              "      <td>117121178223</td>\n",
              "      <td>63831</td>\n",
              "      <td>445</td>\n",
              "      <td>2</td>\n",
              "    </tr>\n",
              "    <tr>\n",
              "      <th>3</th>\n",
              "      <td>2.021041e+13</td>\n",
              "      <td>154058159165</td>\n",
              "      <td>205034095097</td>\n",
              "      <td>55241</td>\n",
              "      <td>445</td>\n",
              "      <td>2</td>\n",
              "    </tr>\n",
              "    <tr>\n",
              "      <th>4</th>\n",
              "      <td>2.021041e+13</td>\n",
              "      <td>154058159102</td>\n",
              "      <td>093056164131</td>\n",
              "      <td>52898</td>\n",
              "      <td>445</td>\n",
              "      <td>2</td>\n",
              "    </tr>\n",
              "    <tr>\n",
              "      <th>...</th>\n",
              "      <td>...</td>\n",
              "      <td>...</td>\n",
              "      <td>...</td>\n",
              "      <td>...</td>\n",
              "      <td>...</td>\n",
              "      <td>...</td>\n",
              "    </tr>\n",
              "    <tr>\n",
              "      <th>5820305</th>\n",
              "      <td>2.021041e+13</td>\n",
              "      <td>012150252150</td>\n",
              "      <td>102116052100</td>\n",
              "      <td>64259</td>\n",
              "      <td>445</td>\n",
              "      <td>2</td>\n",
              "    </tr>\n",
              "    <tr>\n",
              "      <th>5820306</th>\n",
              "      <td>2.021041e+13</td>\n",
              "      <td>012150252150</td>\n",
              "      <td>167212157124</td>\n",
              "      <td>64261</td>\n",
              "      <td>445</td>\n",
              "      <td>2</td>\n",
              "    </tr>\n",
              "    <tr>\n",
              "      <th>5820307</th>\n",
              "      <td>2.021041e+13</td>\n",
              "      <td>145217002097</td>\n",
              "      <td>072192214054</td>\n",
              "      <td>25646</td>\n",
              "      <td>23</td>\n",
              "      <td>2</td>\n",
              "    </tr>\n",
              "    <tr>\n",
              "      <th>5820308</th>\n",
              "      <td>2.021041e+13</td>\n",
              "      <td>154058159164</td>\n",
              "      <td>185151199060</td>\n",
              "      <td>54633</td>\n",
              "      <td>445</td>\n",
              "      <td>2</td>\n",
              "    </tr>\n",
              "    <tr>\n",
              "      <th>5820309</th>\n",
              "      <td>2.021041e+13</td>\n",
              "      <td>154058159020</td>\n",
              "      <td>180130243165</td>\n",
              "      <td>53644</td>\n",
              "      <td>445</td>\n",
              "      <td>2</td>\n",
              "    </tr>\n",
              "  </tbody>\n",
              "</table>\n",
              "<p>5820310 rows × 6 columns</p>\n",
              "</div>"
            ],
            "text/plain": [
              "                Rdate        src_ip        dst_ip  src_port  dst_port  Action\n",
              "0        2.021041e+13  154058159102  103177012042     52897       445       2\n",
              "1        2.021041e+13  154058159020  125066092196     60579       445       2\n",
              "2        2.021041e+13  154058159164  117121178223     63831       445       2\n",
              "3        2.021041e+13  154058159165  205034095097     55241       445       2\n",
              "4        2.021041e+13  154058159102  093056164131     52898       445       2\n",
              "...               ...           ...           ...       ...       ...     ...\n",
              "5820305  2.021041e+13  012150252150  102116052100     64259       445       2\n",
              "5820306  2.021041e+13  012150252150  167212157124     64261       445       2\n",
              "5820307  2.021041e+13  145217002097  072192214054     25646        23       2\n",
              "5820308  2.021041e+13  154058159164  185151199060     54633       445       2\n",
              "5820309  2.021041e+13  154058159020  180130243165     53644       445       2\n",
              "\n",
              "[5820310 rows x 6 columns]"
            ]
          },
          "metadata": {},
          "execution_count": 28
        }
      ]
    },
    {
      "cell_type": "code",
      "metadata": {
        "id": "0Gqwu2_A9agV"
      },
      "source": [
        "# src_country / dst_country 를 사용하는 경우 \n",
        "# def labelEncoder(dataset):\n",
        "#   from sklearn.preprocessing import LabelEncoder\n",
        "#   job_encode = LabelEncoder()\n",
        "#   dataset['src_country'] = job_encode.fit_transform(dataset['src_country'])\n",
        "#   dataset['dst_country'] = job_encode.fit_transform(dataset['dst_country'])\n",
        "  \n",
        "#   return dataset"
      ],
      "execution_count": null,
      "outputs": []
    },
    {
      "cell_type": "code",
      "metadata": {
        "id": "j7VbnCP79dhy"
      },
      "source": [
        "# feature_ = labelEncoder(feature_)"
      ],
      "execution_count": null,
      "outputs": []
    },
    {
      "cell_type": "code",
      "metadata": {
        "colab": {
          "base_uri": "https://localhost:8080/"
        },
        "id": "BiIu3jW131Wy",
        "outputId": "4350b5dc-779b-4f2b-d144-72d807aac509"
      },
      "source": [
        "unique_time[:100]"
      ],
      "execution_count": 79,
      "outputs": [
        {
          "output_type": "execute_result",
          "data": {
            "text/plain": [
              "[20210410000016.64,\n",
              " 20210410000017.64,\n",
              " 20210410000018.64,\n",
              " 20210410000019.64,\n",
              " 20210410000020.64,\n",
              " 20210410000021.64,\n",
              " 20210410000052.64,\n",
              " 20210410000053.64,\n",
              " 20210410000124.64,\n",
              " 20210410000125.64,\n",
              " 20210410000126.64,\n",
              " 20210410000127.64,\n",
              " 20210410000128.64,\n",
              " 20210410000129.64,\n",
              " 20210410000130.64,\n",
              " 20210410000131.64,\n",
              " 20210410000132.64,\n",
              " 20210410000202.64,\n",
              " 20210410000203.64,\n",
              " 20210410000204.64,\n",
              " 20210410000205.64,\n",
              " 20210410000236.64,\n",
              " 20210410000237.64,\n",
              " 20210410000238.64,\n",
              " 20210410000239.64,\n",
              " 20210410000240.64,\n",
              " 20210410000310.64,\n",
              " 20210410000311.64,\n",
              " 20210410000312.64,\n",
              " 20210410000342.64,\n",
              " 20210410000343.64,\n",
              " 20210410000344.64,\n",
              " 20210410000345.64,\n",
              " 20210410000346.64,\n",
              " 20210410000347.64,\n",
              " 20210410000348.64,\n",
              " 20210410000349.64,\n",
              " 20210410000420.64,\n",
              " 20210410000421.64,\n",
              " 20210410000422.64,\n",
              " 20210410000423.64,\n",
              " 20210410000424.64,\n",
              " 20210410000425.64,\n",
              " 20210410000426.64,\n",
              " 20210410000427.64,\n",
              " 20210410000458.64,\n",
              " 20210410000459.64,\n",
              " 20210410000500.64,\n",
              " 20210410000501.64,\n",
              " 20210410000532.64,\n",
              " 20210410000533.64,\n",
              " 20210410000534.64,\n",
              " 20210410000535.64,\n",
              " 20210410000536.64,\n",
              " 20210410000537.64,\n",
              " 20210410000538.64,\n",
              " 20210410000539.64,\n",
              " 20210410000540.64,\n",
              " 20210410000610.64,\n",
              " 20210410000611.64,\n",
              " 20210410000612.64,\n",
              " 20210410000613.64,\n",
              " 20210410000644.64,\n",
              " 20210410000645.64,\n",
              " 20210410000646.64,\n",
              " 20210410000717.64,\n",
              " 20210410000718.64,\n",
              " 20210410000719.64,\n",
              " 20210410000750.64,\n",
              " 20210410000751.64,\n",
              " 20210410000752.64,\n",
              " 20210410000823.64,\n",
              " 20210410000824.64,\n",
              " 20210410000825.64,\n",
              " 20210410000826.64,\n",
              " 20210410000857.64,\n",
              " 20210410000858.64,\n",
              " 20210410000859.64,\n",
              " 20210410000900.64,\n",
              " 20210410000901.64,\n",
              " 20210410000902.64,\n",
              " 20210410000903.64,\n",
              " 20210410000904.64,\n",
              " 20210410000934.64,\n",
              " 20210410000935.64,\n",
              " 20210410000936.64,\n",
              " 20210410001007.64,\n",
              " 20210410001008.64,\n",
              " 20210410001009.64,\n",
              " 20210410001040.64,\n",
              " 20210410001041.64,\n",
              " 20210410001042.64,\n",
              " 20210410001112.64,\n",
              " 20210410001113.64,\n",
              " 20210410001114.64,\n",
              " 20210410001145.64,\n",
              " 20210410001146.64,\n",
              " 20210410001147.64,\n",
              " 20210410001218.64,\n",
              " 20210410001219.64]"
            ]
          },
          "metadata": {},
          "execution_count": 79
        }
      ]
    },
    {
      "cell_type": "markdown",
      "metadata": {
        "id": "fg96hB3GAbtc"
      },
      "source": [
        "DBSCAN의  매개변수들\n",
        "\n",
        "- DBSCAN의 주 매개변수\n",
        "    - **min_samples** : 핵심 포인트를 중심점으로 간주하는 주변 지역의 표본 수\n",
        "    - **eps** : 핵심 포인트를 중심으로 측정되는 유클리디언 거리값\n",
        "- **밀집지역(dense region)** : 특성 공간에서 (거리가 가까워서) 데이터가 붐비는 지역\n",
        "- **핵심 샘플(or 핵심 포인트)** : eps거리 안에 데이터가 지정한 min_samples개수를 만족시키는 밀집지역에 있는 데이터 포인트\n",
        "- **잡음(noise)** : eps거리 안에 들어오는 포인트 수가 지정한 min_sample보다 적을 경우 어디에도 속하지 않는 잡음으로 레이블됨"
      ]
    },
    {
      "cell_type": "markdown",
      "metadata": {
        "id": "uJ5hOxNOAgxq"
      },
      "source": [
        "DBSCAN 작동 방식 \n",
        "\n",
        "- **STEP 1** : 특성 공간에서 데이터가 붐비는 밀집지역을 찾고, 그 범위안에서 핵심 샘플이될 포인트를 지정한다.\n",
        "- **STEP 2** : 어느 데이터 포인트에서 eps거리 안에 데이터가 min_samples개수 만큼 들어 있으면 이 데이터 포인트를 핵심 샘플로 지정한다. 이 경우 해당 데이터 포인트는 새로운 클러스터 레이블로 할당된다. (min_samples개수를 충족시키지 않으면 잡음으로 분류)\n",
        "- **STEP 3** : 새롭게 할당된 핵심 샘플로 부터 eps거리 안의 포인트가 만약 어떤 클러스터에도 할당되지 않았다면 해당 클러스터 레이블로 할당시킨다. (만약 핵심 샘플이면 그 포인트의 이웃을 차례로 방문)\n",
        "- **STEP 4** : STEP 1~3을 반복하며 eps거리 안에 더 이상 핵심 샘플이 없을 때까지 자란다."
      ]
    },
    {
      "cell_type": "code",
      "metadata": {
        "id": "6WV0iIl5APxN"
      },
      "source": [
        "# #############################################################################\n",
        "# Compute DBSCAN\n",
        "def dbscan(feature_):\n",
        "  from sklearn.preprocessing import StandardScaler\n",
        "  feature = feature_[ ['src_ip', 'dst_ip', 'src_port', 'dst_port', 'Action']]\n",
        "\n",
        "  scaler = StandardScaler()\n",
        "\n",
        "  scaler.fit(feature)\n",
        "  feature_trans = scaler.transform(feature)\n",
        "  model = DBSCAN(eps=0.5, min_samples=5)\n",
        "  predict = pd.DataFrame(model.fit_predict(feature_trans))\n",
        "  predict.columns = ['predict']\n",
        "  r = pd.concat([feature,predict],axis=1)\n",
        "  \n",
        "  # core_samples_mask = np.zeros_like(model.labels_, dtype=bool)\n",
        "  # core_samples_mask[model.core_sample_indices_] = True\n",
        "  labels = model.labels_\n",
        "\n",
        "  n_clusters_ = len(set(labels)) - (1 if -1 in labels else 0)\n",
        "  n_noise_ = list(labels).count(-1)\n",
        "\n",
        "  print(\"Dataset Size : \",len(feature))\n",
        "  print(\"Estimated number of clusters: %d\" % n_clusters_)\n",
        "  print(\"Estimated number of noise points: %d\" % n_noise_)\n",
        "  return r, labels"
      ],
      "execution_count": 82,
      "outputs": []
    },
    {
      "cell_type": "code",
      "metadata": {
        "id": "wiEWaaHpARyk"
      },
      "source": [
        "def pair_plot(r):\n",
        "  sns.pairplot(r,hue='predict')\n",
        "  plt.show()\n"
      ],
      "execution_count": 83,
      "outputs": []
    },
    {
      "cell_type": "code",
      "metadata": {
        "colab": {
          "base_uri": "https://localhost:8080/",
          "height": 598
        },
        "id": "h89XBRji2jqC",
        "outputId": "4590a357-4e93-46d0-8179-3f2518663c6f"
      },
      "source": [
        "# window size 만큼의의 데이터 추출\n",
        "window_size = 100\n",
        "for i in range(len(unique_time)-window_size):\n",
        "  window_df = pd.DataFrame()\n",
        "  for j in range(window_size):\n",
        "    # 특정시간대의 데이터만 추출\n",
        "    select_time = feature_[feature_['Rdate']==unique_time[i+j]]\n",
        "    window_df = pd.concat([window_df,select_time])\n",
        "    \n",
        "  # 추출된 특정시간대의 데이터만가지고 DBSCAN 진행\n",
        "  dbscan_result,labels = dbscan(window_df)\n",
        "  pair_plot(dbscan_result)\n",
        "  break"
      ],
      "execution_count": 78,
      "outputs": [
        {
          "output_type": "stream",
          "name": "stdout",
          "text": [
            "Dataset Size :  27070\n",
            "Estimated number of clusters: 42\n",
            "Estimated number of noise points: 289\n"
          ]
        },
        {
          "output_type": "display_data",
          "data": {
            "image/png": "[encoded data removed]",
            "text/plain": [
              "<Figure size 588.75x540 with 12 Axes>"
            ]
          },
          "metadata": {
            "needs_background": "light"
          }
        }
      ]
    },
    {
      "cell_type": "code",
      "metadata": {
        "colab": {
          "base_uri": "https://localhost:8080/",
          "height": 411
        },
        "id": "d9htT8i3-vwY",
        "outputId": "c36532b8-79af-4089-9231-2d8a2d69c51e"
      },
      "source": [
        "dbscan_result[dbscan_result['predict']==-1]"
      ],
      "execution_count": 81,
      "outputs": [
        {
          "output_type": "execute_result",
          "data": {
            "text/html": [
              "<div>\n",
              "<style scoped>\n",
              "    .dataframe tbody tr th:only-of-type {\n",
              "        vertical-align: middle;\n",
              "    }\n",
              "\n",
              "    .dataframe tbody tr th {\n",
              "        vertical-align: top;\n",
              "    }\n",
              "\n",
              "    .dataframe thead th {\n",
              "        text-align: right;\n",
              "    }\n",
              "</style>\n",
              "<table border=\"1\" class=\"dataframe\">\n",
              "  <thead>\n",
              "    <tr style=\"text-align: right;\">\n",
              "      <th></th>\n",
              "      <th>src_ip</th>\n",
              "      <th>dst_ip</th>\n",
              "      <th>src_port</th>\n",
              "      <th>dst_port</th>\n",
              "      <th>Action</th>\n",
              "      <th>predict</th>\n",
              "    </tr>\n",
              "  </thead>\n",
              "  <tbody>\n",
              "    <tr>\n",
              "      <th>72</th>\n",
              "      <td>154058159102</td>\n",
              "      <td>070079086168</td>\n",
              "      <td>52948.0</td>\n",
              "      <td>445.0</td>\n",
              "      <td>2.0</td>\n",
              "      <td>-1.0</td>\n",
              "    </tr>\n",
              "    <tr>\n",
              "      <th>111</th>\n",
              "      <td>018000183206</td>\n",
              "      <td>072192214060</td>\n",
              "      <td>37054.0</td>\n",
              "      <td>443.0</td>\n",
              "      <td>2.0</td>\n",
              "      <td>-1.0</td>\n",
              "    </tr>\n",
              "    <tr>\n",
              "      <th>149</th>\n",
              "      <td>154058159165</td>\n",
              "      <td>184096122135</td>\n",
              "      <td>55342.0</td>\n",
              "      <td>445.0</td>\n",
              "      <td>2.0</td>\n",
              "      <td>-1.0</td>\n",
              "    </tr>\n",
              "    <tr>\n",
              "      <th>154</th>\n",
              "      <td>154058159102</td>\n",
              "      <td>044206122050</td>\n",
              "      <td>61097.0</td>\n",
              "      <td>445.0</td>\n",
              "      <td>2.0</td>\n",
              "      <td>-1.0</td>\n",
              "    </tr>\n",
              "    <tr>\n",
              "      <th>280</th>\n",
              "      <td>012150252150</td>\n",
              "      <td>200222122142</td>\n",
              "      <td>58295.0</td>\n",
              "      <td>445.0</td>\n",
              "      <td>2.0</td>\n",
              "      <td>-1.0</td>\n",
              "    </tr>\n",
              "    <tr>\n",
              "      <th>...</th>\n",
              "      <td>...</td>\n",
              "      <td>...</td>\n",
              "      <td>...</td>\n",
              "      <td>...</td>\n",
              "      <td>...</td>\n",
              "      <td>...</td>\n",
              "    </tr>\n",
              "    <tr>\n",
              "      <th>26462</th>\n",
              "      <td>154058159020</td>\n",
              "      <td>008062205168</td>\n",
              "      <td>60819.0</td>\n",
              "      <td>445.0</td>\n",
              "      <td>2.0</td>\n",
              "      <td>-1.0</td>\n",
              "    </tr>\n",
              "    <tr>\n",
              "      <th>26475</th>\n",
              "      <td>012150252150</td>\n",
              "      <td>103011099157</td>\n",
              "      <td>50164.0</td>\n",
              "      <td>445.0</td>\n",
              "      <td>2.0</td>\n",
              "      <td>-1.0</td>\n",
              "    </tr>\n",
              "    <tr>\n",
              "      <th>26521</th>\n",
              "      <td>128200187142</td>\n",
              "      <td>045111016245</td>\n",
              "      <td>37852.0</td>\n",
              "      <td>4332.0</td>\n",
              "      <td>2.0</td>\n",
              "      <td>-1.0</td>\n",
              "    </tr>\n",
              "    <tr>\n",
              "      <th>26809</th>\n",
              "      <td>012150252150</td>\n",
              "      <td>130142091251</td>\n",
              "      <td>57577.0</td>\n",
              "      <td>445.0</td>\n",
              "      <td>2.0</td>\n",
              "      <td>-1.0</td>\n",
              "    </tr>\n",
              "    <tr>\n",
              "      <th>27003</th>\n",
              "      <td>012150252150</td>\n",
              "      <td>000005234087</td>\n",
              "      <td>62132.0</td>\n",
              "      <td>445.0</td>\n",
              "      <td>2.0</td>\n",
              "      <td>-1.0</td>\n",
              "    </tr>\n",
              "  </tbody>\n",
              "</table>\n",
              "<p>289 rows × 6 columns</p>\n",
              "</div>"
            ],
            "text/plain": [
              "             src_ip        dst_ip  src_port  dst_port  Action  predict\n",
              "72     154058159102  070079086168   52948.0     445.0     2.0     -1.0\n",
              "111    018000183206  072192214060   37054.0     443.0     2.0     -1.0\n",
              "149    154058159165  184096122135   55342.0     445.0     2.0     -1.0\n",
              "154    154058159102  044206122050   61097.0     445.0     2.0     -1.0\n",
              "280    012150252150  200222122142   58295.0     445.0     2.0     -1.0\n",
              "...             ...           ...       ...       ...     ...      ...\n",
              "26462  154058159020  008062205168   60819.0     445.0     2.0     -1.0\n",
              "26475  012150252150  103011099157   50164.0     445.0     2.0     -1.0\n",
              "26521  128200187142  045111016245   37852.0    4332.0     2.0     -1.0\n",
              "26809  012150252150  130142091251   57577.0     445.0     2.0     -1.0\n",
              "27003  012150252150  000005234087   62132.0     445.0     2.0     -1.0\n",
              "\n",
              "[289 rows x 6 columns]"
            ]
          },
          "metadata": {},
          "execution_count": 81
        }
      ]
    },
    {
      "cell_type": "code",
      "metadata": {
        "id": "pVPfkJWoD3Bp"
      },
      "source": [
        ""
      ],
      "execution_count": null,
      "outputs": []
    }
  ]
}